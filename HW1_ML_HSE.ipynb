{
  "nbformat": 4,
  "nbformat_minor": 0,
  "metadata": {
    "colab": {
      "provenance": [],
      "include_colab_link": true
    },
    "kernelspec": {
      "name": "python3",
      "display_name": "Python 3"
    },
    "language_info": {
      "name": "python"
    }
  },
  "cells": [
    {
      "cell_type": "markdown",
      "metadata": {
        "id": "view-in-github",
        "colab_type": "text"
      },
      "source": [
        "<a href=\"https://colab.research.google.com/github/Kridr/HW_ML_HSE/blob/main/HW1_ML_HSE.ipynb\" target=\"_parent\"><img src=\"https://colab.research.google.com/assets/colab-badge.svg\" alt=\"Open In Colab\"/></a>"
      ]
    },
    {
      "cell_type": "markdown",
      "source": [
        "# Домашнее задание №1 "
      ],
      "metadata": {
        "id": "QkLMu9vfYCHH"
      }
    },
    {
      "cell_type": "markdown",
      "source": [
        "Выполнил: Ляликов Никита, мИИАД22; 28.09.2022"
      ],
      "metadata": {
        "id": "Mk26IRggWOxk"
      }
    },
    {
      "cell_type": "markdown",
      "source": [
        "Дата выдачи: 21.09 \n",
        "\n",
        "Мягкий дедлайн: 1.10 \n",
        "\n",
        "Жесткий дедлайн: 6.10\n",
        "\n",
        "Сдавать домашнее задание после жесткого дедлайна нельзя. \n",
        "Максимально допустимая оценка за работу - 5 баллов. \n"
      ],
      "metadata": {
        "id": "hxz9B-QKYDQQ"
      }
    },
    {
      "cell_type": "code",
      "source": [
        "import numpy as np"
      ],
      "metadata": {
        "id": "FP8SpvKMZDhV"
      },
      "execution_count": null,
      "outputs": []
    },
    {
      "cell_type": "markdown",
      "source": [
        "**Задача 1** \n",
        "\n",
        "Подсчитать произведение ненулевых элементов на диагонали прямоугольной матрицы.\n",
        "Например, для \n",
        "\n",
        "`x = np.array([[1, 0, 1], [2, 0, 2], [3, 0, 3], [4, 4, 4]])` ответ – 3."
      ],
      "metadata": {
        "id": "w1he_hqBYDam"
      }
    },
    {
      "cell_type": "markdown",
      "source": [
        "Решение"
      ],
      "metadata": {
        "id": "4erTG9hxWv0c"
      }
    },
    {
      "cell_type": "code",
      "source": [
        "def prod_diag_non_zero(x):\n",
        "    if x.size == 0:\n",
        "        return np.nan\n",
        "\n",
        "    n = np.min(x.shape)\n",
        "    \n",
        "    diag = np.array([x[i, i] for i in range(n) if x[i, i] != 0])\n",
        "\n",
        "    if diag.size == 0:\n",
        "        return np.nan\n",
        "    \n",
        "    return np.prod(diag)"
      ],
      "metadata": {
        "id": "xkprkelsWu0c"
      },
      "execution_count": null,
      "outputs": []
    },
    {
      "cell_type": "code",
      "source": [
        "print('Test 1.', prod_diag_non_zero(np.array([[1, 0, 1], [2, 0, 2], [3, 0, 3], [4, 4, 4]])))\n",
        "print('Test 2.', prod_diag_non_zero(np.array([[0, 0, 1], [2, 0, 2], [3, 0, 0], [4, 4, 4]])))\n",
        "print('Test 3.', prod_diag_non_zero(np.array([[1, 0, 1, 1], [2, 0, 2, 1], [3, 0, 0, 1]])))\n",
        "print('Test 4.', prod_diag_non_zero(np.array([])))"
      ],
      "metadata": {
        "colab": {
          "base_uri": "https://localhost:8080/"
        },
        "id": "8g2rjnTucEqt",
        "outputId": "d49f2fea-43e8-4e8a-a76f-93086d1db2bf"
      },
      "execution_count": null,
      "outputs": [
        {
          "output_type": "stream",
          "name": "stdout",
          "text": [
            "Test 1. 3\n",
            "Test 2. nan\n",
            "Test 3. 1\n",
            "Test 4. nan\n"
          ]
        }
      ]
    },
    {
      "cell_type": "markdown",
      "source": [
        "**Задача 2**\n",
        "\n",
        "Даны два вектора x и y. Проверить, задают ли они одно и то же мультимножество.\n",
        "Например, для \n",
        "\n",
        "`x = np.array([1, 2, 2, 4]), y = np.array([4, 2, 1, 2])` ответ – True."
      ],
      "metadata": {
        "id": "XrsHmf0zaD3x"
      }
    },
    {
      "cell_type": "markdown",
      "source": [
        "Решение 1 (за O(n*log(n)))"
      ],
      "metadata": {
        "id": "17HqDQR9oYF9"
      }
    },
    {
      "cell_type": "code",
      "source": [
        "def is_equal_multisets_var1(x, y):\n",
        "    x = np.sort(x)\n",
        "    y = np.sort(y)\n",
        "\n",
        "    return len(x) == len(y) and np.equal(x, y).all()"
      ],
      "metadata": {
        "id": "TSqEYdjloZZ8"
      },
      "execution_count": null,
      "outputs": []
    },
    {
      "cell_type": "code",
      "source": [
        "print('Test 1.', is_equal_multisets_var1(np.array([1, 2, 2, 4]), np.array([4, 2, 1, 2])))\n",
        "print('Test 2.', is_equal_multisets_var1(np.array([1, 2, 4]), np.array([4, 2, 1, 2])))\n",
        "print('Test 3.', is_equal_multisets_var1(np.array([]), np.array([])))\n",
        "print('Test 4.', is_equal_multisets_var1(np.array([1, 2, 4]), np.array([3, 1, 2, 3])))"
      ],
      "metadata": {
        "colab": {
          "base_uri": "https://localhost:8080/"
        },
        "id": "C6RkRoK4o7_0",
        "outputId": "3f7fe9db-82e4-4265-b788-58684cdbf648"
      },
      "execution_count": null,
      "outputs": [
        {
          "output_type": "stream",
          "name": "stdout",
          "text": [
            "Test 1. True\n",
            "Test 2. False\n",
            "Test 3. True\n",
            "Test 4. False\n"
          ]
        }
      ]
    },
    {
      "cell_type": "markdown",
      "source": [
        "Решение 2 (за O(n))"
      ],
      "metadata": {
        "id": "xOOjhP8fqjms"
      }
    },
    {
      "cell_type": "code",
      "source": [
        "from collections import defaultdict\n",
        "def is_equal_multisets_var2(x, y):\n",
        "    d_x = defaultdict(int)\n",
        "    d_y = defaultdict(int)\n",
        "\n",
        "    for xi in x:\n",
        "        d_x[xi] += 1\n",
        "    for yi in y:\n",
        "        d_y[yi] += 1\n",
        "\n",
        "    return d_x == d_y"
      ],
      "metadata": {
        "id": "fZUhS_oyqins"
      },
      "execution_count": null,
      "outputs": []
    },
    {
      "cell_type": "code",
      "source": [
        "print('Test 1.', is_equal_multisets_var2(np.array([1, 2, 2, 4]), np.array([4, 2, 1, 2])))\n",
        "print('Test 2.', is_equal_multisets_var2(np.array([1, 2, 4]), np.array([4, 2, 1, 2])))\n",
        "print('Test 3.', is_equal_multisets_var2(np.array([]), np.array([])))\n",
        "print('Test 4.', is_equal_multisets_var2(np.array([1, 2, 4]), np.array([3, 1, 2, 3])))"
      ],
      "metadata": {
        "colab": {
          "base_uri": "https://localhost:8080/"
        },
        "id": "VjKPgRh_rKKk",
        "outputId": "19a100af-039a-4455-e902-fd2a3d21c62d"
      },
      "execution_count": null,
      "outputs": [
        {
          "output_type": "stream",
          "name": "stdout",
          "text": [
            "Test 1. True\n",
            "Test 2. False\n",
            "Test 3. True\n",
            "Test 4. False\n"
          ]
        }
      ]
    },
    {
      "cell_type": "markdown",
      "source": [
        "**Задача 3**\n",
        "\n",
        "Найти максимальный элемент в векторе x среди элементов, перед которыми стоит нулевой.\n",
        "Например, для \n",
        "\n",
        "`x = np.array([6, 2, 0, 3, 0, 0, 5, 7, 0])` ответ – 5."
      ],
      "metadata": {
        "id": "dIzR8U_Ka3Pr"
      }
    },
    {
      "cell_type": "code",
      "source": [
        "def max_before_zero(x):\n",
        "    arr = np.array([x[i] for i in range(1, len(x)) if x[i-1] == 0])\n",
        "    if len(arr) == 0:\n",
        "        return np.nan\n",
        "    else:\n",
        "        return np.amax(arr)"
      ],
      "metadata": {
        "id": "nInSv22mrVJ0"
      },
      "execution_count": null,
      "outputs": []
    },
    {
      "cell_type": "code",
      "source": [
        "print('Test 1.', max_before_zero(np.array([6, 2, 0, 3, 0, 0, 5, 7, 0])))\n",
        "print('Test 2.', max_before_zero(np.array([1, 1, 1])))\n",
        "print('Test 3.', max_before_zero(np.array([0, 0, -1])))\n",
        "print('Test 3.', max_before_zero(np.array([])))"
      ],
      "metadata": {
        "colab": {
          "base_uri": "https://localhost:8080/"
        },
        "id": "xFykWrDJuis0",
        "outputId": "25292e96-919c-4236-e4eb-7210352963c7"
      },
      "execution_count": null,
      "outputs": [
        {
          "output_type": "stream",
          "name": "stdout",
          "text": [
            "Test 1. 5\n",
            "Test 2. nan\n",
            "Test 3. 0\n",
            "Test 3. nan\n"
          ]
        }
      ]
    }
  ]
}