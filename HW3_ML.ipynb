{
  "nbformat": 4,
  "nbformat_minor": 0,
  "metadata": {
    "colab": {
      "provenance": [],
      "include_colab_link": true
    },
    "kernelspec": {
      "name": "python3",
      "display_name": "Python 3"
    },
    "language_info": {
      "name": "python"
    }
  },
  "cells": [
    {
      "cell_type": "markdown",
      "metadata": {
        "id": "view-in-github",
        "colab_type": "text"
      },
      "source": [
        "<a href=\"https://colab.research.google.com/github/Kridr/HW_ML_HSE/blob/main/HW3_ML.ipynb\" target=\"_parent\"><img src=\"https://colab.research.google.com/assets/colab-badge.svg\" alt=\"Open In Colab\"/></a>"
      ]
    },
    {
      "cell_type": "markdown",
      "source": [
        "ФИО: Ляликов Никита Андреевич\n",
        "\n",
        "Группа: мИИАД22"
      ],
      "metadata": {
        "id": "VeIno61_wZNi"
      }
    },
    {
      "cell_type": "markdown",
      "source": [
        "За последнее домашнее задание можно набрать 50 баллов – *таким образом, можно набрать до 5 дополнительных баллов*, которые могут помочь добрать где-либо ранее потерянные баллы, если есть такая необходимость.\n",
        "\n",
        "**Дедлайн – 24 декабря, 23:59**. *Крайне приветствуется* сдача в ранний срок – работа будет проверена практически сразу (в рабочие часы) и студенту будет выставлены итоговые баллы**\n",
        "\n",
        "\n",
        "---\n",
        "\n"
      ],
      "metadata": {
        "id": "fc5aIKvyyOkG"
      }
    },
    {
      "cell_type": "markdown",
      "source": [
        "**1.** (5 баллов) Вы разработали модель, которая страдает низким смещением и высокой дисперсией. Как Вы думаете, какой метод/алгоритм можно в таком случае применить и почему? "
      ],
      "metadata": {
        "id": "9B4ww11_Wdw5"
      }
    },
    {
      "cell_type": "markdown",
      "source": [
        "В данном случае можно использовать модели, основанные на бэггинге. Хороший пример такого алгоритма - случайный лес. Свойство бэггинга - если базовые алгоритмы некоррелированы, то дисперсия композиции в N раз меньше дисперсии отдельных алгоритмов. Если же коррелиция имеет место, то уменьшение дисперсии может быть гораздо менее существенным. При этом, в данном случае смещение композиции будет примерно равно смещению базового алгоритма"
      ],
      "metadata": {
        "id": "SVffPIt0fnH0"
      }
    },
    {
      "cell_type": "markdown",
      "source": [
        "**2.** (5 баллов) У Вас есть датафрейм `df_baguettes`, содержащий список цен на французские багеты. Но оказалось, что в этом датафрейме отсутствуют многие значения в столбце цен. По крайней мере несколько багетов имеют цену в столбце.\n",
        "Напишите функцию `median_baguettes`, которая вычисляет медианную цену выбранных французских багетов вместо отсутствующих значений. "
      ],
      "metadata": {
        "id": "ZWtaoeHFWeAA"
      }
    },
    {
      "cell_type": "code",
      "source": [
        "import pandas as pd\n",
        "import numpy as np"
      ],
      "metadata": {
        "id": "hk4MHPMI470V"
      },
      "execution_count": 1,
      "outputs": []
    },
    {
      "cell_type": "markdown",
      "source": [
        "Два варианта. Один прямой средствами pandas, другой - ручной"
      ],
      "metadata": {
        "id": "pd35pgo8Ao-G"
      }
    },
    {
      "cell_type": "code",
      "source": [
        "def median_baguettes(df_baguettes):\n",
        "    return df_baguettes.fillna(df_baguettes.median())\n",
        "\n",
        "def median_baguettes2(df_baguettes):\n",
        "    df_baguettes_c = df_baguettes.copy()\n",
        "    l = []\n",
        "    for i in df_baguettes_c.index:\n",
        "        if not np.isnan(df_baguettes_c.at[i, 'price']):\n",
        "            l.append(df_baguettes_c.at[i, 'price'])\n",
        "    median = l[len(l) // 2]\n",
        "    for i in df_baguettes_c.index:\n",
        "        if np.isnan(df_baguettes_c.at[i, 'price']):\n",
        "            df_baguettes_c.at[i, 'price'] = median\n",
        "\n",
        "    return df_baguettes_c"
      ],
      "metadata": {
        "id": "Z6fIpMyH300N"
      },
      "execution_count": 2,
      "outputs": []
    },
    {
      "cell_type": "markdown",
      "source": [
        "Зададим датафрейм для проверки"
      ],
      "metadata": {
        "id": "W5Rw1o-UAvEm"
      }
    },
    {
      "cell_type": "code",
      "source": [
        "df_b = pd.DataFrame.from_dict({'price': [0, np.nan, 2, 6, np.nan, np.nan]})\n",
        "df_b"
      ],
      "metadata": {
        "colab": {
          "base_uri": "https://localhost:8080/",
          "height": 237
        },
        "id": "v3E7e4Ye4dYc",
        "outputId": "1cc2a41e-a14a-460e-bf06-9f7ac764cba2"
      },
      "execution_count": 3,
      "outputs": [
        {
          "output_type": "execute_result",
          "data": {
            "text/plain": [
              "   price\n",
              "0    0.0\n",
              "1    NaN\n",
              "2    2.0\n",
              "3    6.0\n",
              "4    NaN\n",
              "5    NaN"
            ],
            "text/html": [
              "\n",
              "  <div id=\"df-b2b03ed1-c1af-42db-a3ee-b5975c72bedb\">\n",
              "    <div class=\"colab-df-container\">\n",
              "      <div>\n",
              "<style scoped>\n",
              "    .dataframe tbody tr th:only-of-type {\n",
              "        vertical-align: middle;\n",
              "    }\n",
              "\n",
              "    .dataframe tbody tr th {\n",
              "        vertical-align: top;\n",
              "    }\n",
              "\n",
              "    .dataframe thead th {\n",
              "        text-align: right;\n",
              "    }\n",
              "</style>\n",
              "<table border=\"1\" class=\"dataframe\">\n",
              "  <thead>\n",
              "    <tr style=\"text-align: right;\">\n",
              "      <th></th>\n",
              "      <th>price</th>\n",
              "    </tr>\n",
              "  </thead>\n",
              "  <tbody>\n",
              "    <tr>\n",
              "      <th>0</th>\n",
              "      <td>0.0</td>\n",
              "    </tr>\n",
              "    <tr>\n",
              "      <th>1</th>\n",
              "      <td>NaN</td>\n",
              "    </tr>\n",
              "    <tr>\n",
              "      <th>2</th>\n",
              "      <td>2.0</td>\n",
              "    </tr>\n",
              "    <tr>\n",
              "      <th>3</th>\n",
              "      <td>6.0</td>\n",
              "    </tr>\n",
              "    <tr>\n",
              "      <th>4</th>\n",
              "      <td>NaN</td>\n",
              "    </tr>\n",
              "    <tr>\n",
              "      <th>5</th>\n",
              "      <td>NaN</td>\n",
              "    </tr>\n",
              "  </tbody>\n",
              "</table>\n",
              "</div>\n",
              "      <button class=\"colab-df-convert\" onclick=\"convertToInteractive('df-b2b03ed1-c1af-42db-a3ee-b5975c72bedb')\"\n",
              "              title=\"Convert this dataframe to an interactive table.\"\n",
              "              style=\"display:none;\">\n",
              "        \n",
              "  <svg xmlns=\"http://www.w3.org/2000/svg\" height=\"24px\"viewBox=\"0 0 24 24\"\n",
              "       width=\"24px\">\n",
              "    <path d=\"M0 0h24v24H0V0z\" fill=\"none\"/>\n",
              "    <path d=\"M18.56 5.44l.94 2.06.94-2.06 2.06-.94-2.06-.94-.94-2.06-.94 2.06-2.06.94zm-11 1L8.5 8.5l.94-2.06 2.06-.94-2.06-.94L8.5 2.5l-.94 2.06-2.06.94zm10 10l.94 2.06.94-2.06 2.06-.94-2.06-.94-.94-2.06-.94 2.06-2.06.94z\"/><path d=\"M17.41 7.96l-1.37-1.37c-.4-.4-.92-.59-1.43-.59-.52 0-1.04.2-1.43.59L10.3 9.45l-7.72 7.72c-.78.78-.78 2.05 0 2.83L4 21.41c.39.39.9.59 1.41.59.51 0 1.02-.2 1.41-.59l7.78-7.78 2.81-2.81c.8-.78.8-2.07 0-2.86zM5.41 20L4 18.59l7.72-7.72 1.47 1.35L5.41 20z\"/>\n",
              "  </svg>\n",
              "      </button>\n",
              "      \n",
              "  <style>\n",
              "    .colab-df-container {\n",
              "      display:flex;\n",
              "      flex-wrap:wrap;\n",
              "      gap: 12px;\n",
              "    }\n",
              "\n",
              "    .colab-df-convert {\n",
              "      background-color: #E8F0FE;\n",
              "      border: none;\n",
              "      border-radius: 50%;\n",
              "      cursor: pointer;\n",
              "      display: none;\n",
              "      fill: #1967D2;\n",
              "      height: 32px;\n",
              "      padding: 0 0 0 0;\n",
              "      width: 32px;\n",
              "    }\n",
              "\n",
              "    .colab-df-convert:hover {\n",
              "      background-color: #E2EBFA;\n",
              "      box-shadow: 0px 1px 2px rgba(60, 64, 67, 0.3), 0px 1px 3px 1px rgba(60, 64, 67, 0.15);\n",
              "      fill: #174EA6;\n",
              "    }\n",
              "\n",
              "    [theme=dark] .colab-df-convert {\n",
              "      background-color: #3B4455;\n",
              "      fill: #D2E3FC;\n",
              "    }\n",
              "\n",
              "    [theme=dark] .colab-df-convert:hover {\n",
              "      background-color: #434B5C;\n",
              "      box-shadow: 0px 1px 3px 1px rgba(0, 0, 0, 0.15);\n",
              "      filter: drop-shadow(0px 1px 2px rgba(0, 0, 0, 0.3));\n",
              "      fill: #FFFFFF;\n",
              "    }\n",
              "  </style>\n",
              "\n",
              "      <script>\n",
              "        const buttonEl =\n",
              "          document.querySelector('#df-b2b03ed1-c1af-42db-a3ee-b5975c72bedb button.colab-df-convert');\n",
              "        buttonEl.style.display =\n",
              "          google.colab.kernel.accessAllowed ? 'block' : 'none';\n",
              "\n",
              "        async function convertToInteractive(key) {\n",
              "          const element = document.querySelector('#df-b2b03ed1-c1af-42db-a3ee-b5975c72bedb');\n",
              "          const dataTable =\n",
              "            await google.colab.kernel.invokeFunction('convertToInteractive',\n",
              "                                                     [key], {});\n",
              "          if (!dataTable) return;\n",
              "\n",
              "          const docLinkHtml = 'Like what you see? Visit the ' +\n",
              "            '<a target=\"_blank\" href=https://colab.research.google.com/notebooks/data_table.ipynb>data table notebook</a>'\n",
              "            + ' to learn more about interactive tables.';\n",
              "          element.innerHTML = '';\n",
              "          dataTable['output_type'] = 'display_data';\n",
              "          await google.colab.output.renderOutput(dataTable, element);\n",
              "          const docLink = document.createElement('div');\n",
              "          docLink.innerHTML = docLinkHtml;\n",
              "          element.appendChild(docLink);\n",
              "        }\n",
              "      </script>\n",
              "    </div>\n",
              "  </div>\n",
              "  "
            ]
          },
          "metadata": {},
          "execution_count": 3
        }
      ]
    },
    {
      "cell_type": "markdown",
      "source": [
        "Средствами pandas "
      ],
      "metadata": {
        "id": "wNvYdE1rAzCu"
      }
    },
    {
      "cell_type": "code",
      "source": [
        "median_baguettes(df_b)"
      ],
      "metadata": {
        "colab": {
          "base_uri": "https://localhost:8080/",
          "height": 237
        },
        "id": "BWvSTNco44SN",
        "outputId": "0e06c85d-58a8-46b5-d7c3-d28473e3b4f0"
      },
      "execution_count": 4,
      "outputs": [
        {
          "output_type": "execute_result",
          "data": {
            "text/plain": [
              "   price\n",
              "0    0.0\n",
              "1    2.0\n",
              "2    2.0\n",
              "3    6.0\n",
              "4    2.0\n",
              "5    2.0"
            ],
            "text/html": [
              "\n",
              "  <div id=\"df-b756f085-6312-404f-825f-cc38e98b219d\">\n",
              "    <div class=\"colab-df-container\">\n",
              "      <div>\n",
              "<style scoped>\n",
              "    .dataframe tbody tr th:only-of-type {\n",
              "        vertical-align: middle;\n",
              "    }\n",
              "\n",
              "    .dataframe tbody tr th {\n",
              "        vertical-align: top;\n",
              "    }\n",
              "\n",
              "    .dataframe thead th {\n",
              "        text-align: right;\n",
              "    }\n",
              "</style>\n",
              "<table border=\"1\" class=\"dataframe\">\n",
              "  <thead>\n",
              "    <tr style=\"text-align: right;\">\n",
              "      <th></th>\n",
              "      <th>price</th>\n",
              "    </tr>\n",
              "  </thead>\n",
              "  <tbody>\n",
              "    <tr>\n",
              "      <th>0</th>\n",
              "      <td>0.0</td>\n",
              "    </tr>\n",
              "    <tr>\n",
              "      <th>1</th>\n",
              "      <td>2.0</td>\n",
              "    </tr>\n",
              "    <tr>\n",
              "      <th>2</th>\n",
              "      <td>2.0</td>\n",
              "    </tr>\n",
              "    <tr>\n",
              "      <th>3</th>\n",
              "      <td>6.0</td>\n",
              "    </tr>\n",
              "    <tr>\n",
              "      <th>4</th>\n",
              "      <td>2.0</td>\n",
              "    </tr>\n",
              "    <tr>\n",
              "      <th>5</th>\n",
              "      <td>2.0</td>\n",
              "    </tr>\n",
              "  </tbody>\n",
              "</table>\n",
              "</div>\n",
              "      <button class=\"colab-df-convert\" onclick=\"convertToInteractive('df-b756f085-6312-404f-825f-cc38e98b219d')\"\n",
              "              title=\"Convert this dataframe to an interactive table.\"\n",
              "              style=\"display:none;\">\n",
              "        \n",
              "  <svg xmlns=\"http://www.w3.org/2000/svg\" height=\"24px\"viewBox=\"0 0 24 24\"\n",
              "       width=\"24px\">\n",
              "    <path d=\"M0 0h24v24H0V0z\" fill=\"none\"/>\n",
              "    <path d=\"M18.56 5.44l.94 2.06.94-2.06 2.06-.94-2.06-.94-.94-2.06-.94 2.06-2.06.94zm-11 1L8.5 8.5l.94-2.06 2.06-.94-2.06-.94L8.5 2.5l-.94 2.06-2.06.94zm10 10l.94 2.06.94-2.06 2.06-.94-2.06-.94-.94-2.06-.94 2.06-2.06.94z\"/><path d=\"M17.41 7.96l-1.37-1.37c-.4-.4-.92-.59-1.43-.59-.52 0-1.04.2-1.43.59L10.3 9.45l-7.72 7.72c-.78.78-.78 2.05 0 2.83L4 21.41c.39.39.9.59 1.41.59.51 0 1.02-.2 1.41-.59l7.78-7.78 2.81-2.81c.8-.78.8-2.07 0-2.86zM5.41 20L4 18.59l7.72-7.72 1.47 1.35L5.41 20z\"/>\n",
              "  </svg>\n",
              "      </button>\n",
              "      \n",
              "  <style>\n",
              "    .colab-df-container {\n",
              "      display:flex;\n",
              "      flex-wrap:wrap;\n",
              "      gap: 12px;\n",
              "    }\n",
              "\n",
              "    .colab-df-convert {\n",
              "      background-color: #E8F0FE;\n",
              "      border: none;\n",
              "      border-radius: 50%;\n",
              "      cursor: pointer;\n",
              "      display: none;\n",
              "      fill: #1967D2;\n",
              "      height: 32px;\n",
              "      padding: 0 0 0 0;\n",
              "      width: 32px;\n",
              "    }\n",
              "\n",
              "    .colab-df-convert:hover {\n",
              "      background-color: #E2EBFA;\n",
              "      box-shadow: 0px 1px 2px rgba(60, 64, 67, 0.3), 0px 1px 3px 1px rgba(60, 64, 67, 0.15);\n",
              "      fill: #174EA6;\n",
              "    }\n",
              "\n",
              "    [theme=dark] .colab-df-convert {\n",
              "      background-color: #3B4455;\n",
              "      fill: #D2E3FC;\n",
              "    }\n",
              "\n",
              "    [theme=dark] .colab-df-convert:hover {\n",
              "      background-color: #434B5C;\n",
              "      box-shadow: 0px 1px 3px 1px rgba(0, 0, 0, 0.15);\n",
              "      filter: drop-shadow(0px 1px 2px rgba(0, 0, 0, 0.3));\n",
              "      fill: #FFFFFF;\n",
              "    }\n",
              "  </style>\n",
              "\n",
              "      <script>\n",
              "        const buttonEl =\n",
              "          document.querySelector('#df-b756f085-6312-404f-825f-cc38e98b219d button.colab-df-convert');\n",
              "        buttonEl.style.display =\n",
              "          google.colab.kernel.accessAllowed ? 'block' : 'none';\n",
              "\n",
              "        async function convertToInteractive(key) {\n",
              "          const element = document.querySelector('#df-b756f085-6312-404f-825f-cc38e98b219d');\n",
              "          const dataTable =\n",
              "            await google.colab.kernel.invokeFunction('convertToInteractive',\n",
              "                                                     [key], {});\n",
              "          if (!dataTable) return;\n",
              "\n",
              "          const docLinkHtml = 'Like what you see? Visit the ' +\n",
              "            '<a target=\"_blank\" href=https://colab.research.google.com/notebooks/data_table.ipynb>data table notebook</a>'\n",
              "            + ' to learn more about interactive tables.';\n",
              "          element.innerHTML = '';\n",
              "          dataTable['output_type'] = 'display_data';\n",
              "          await google.colab.output.renderOutput(dataTable, element);\n",
              "          const docLink = document.createElement('div');\n",
              "          docLink.innerHTML = docLinkHtml;\n",
              "          element.appendChild(docLink);\n",
              "        }\n",
              "      </script>\n",
              "    </div>\n",
              "  </div>\n",
              "  "
            ]
          },
          "metadata": {},
          "execution_count": 4
        }
      ]
    },
    {
      "cell_type": "markdown",
      "source": [
        "Собственная функция"
      ],
      "metadata": {
        "id": "4WxzILsUA4rO"
      }
    },
    {
      "cell_type": "code",
      "source": [
        "median_baguettes2(df_b)"
      ],
      "metadata": {
        "colab": {
          "base_uri": "https://localhost:8080/",
          "height": 237
        },
        "id": "ACFxMxcn_pd-",
        "outputId": "d4c493b8-ea95-490b-8fac-bc5756a796a7"
      },
      "execution_count": 5,
      "outputs": [
        {
          "output_type": "execute_result",
          "data": {
            "text/plain": [
              "   price\n",
              "0    0.0\n",
              "1    2.0\n",
              "2    2.0\n",
              "3    6.0\n",
              "4    2.0\n",
              "5    2.0"
            ],
            "text/html": [
              "\n",
              "  <div id=\"df-30cc9c27-6987-4ce6-b657-4699b7ee6557\">\n",
              "    <div class=\"colab-df-container\">\n",
              "      <div>\n",
              "<style scoped>\n",
              "    .dataframe tbody tr th:only-of-type {\n",
              "        vertical-align: middle;\n",
              "    }\n",
              "\n",
              "    .dataframe tbody tr th {\n",
              "        vertical-align: top;\n",
              "    }\n",
              "\n",
              "    .dataframe thead th {\n",
              "        text-align: right;\n",
              "    }\n",
              "</style>\n",
              "<table border=\"1\" class=\"dataframe\">\n",
              "  <thead>\n",
              "    <tr style=\"text-align: right;\">\n",
              "      <th></th>\n",
              "      <th>price</th>\n",
              "    </tr>\n",
              "  </thead>\n",
              "  <tbody>\n",
              "    <tr>\n",
              "      <th>0</th>\n",
              "      <td>0.0</td>\n",
              "    </tr>\n",
              "    <tr>\n",
              "      <th>1</th>\n",
              "      <td>2.0</td>\n",
              "    </tr>\n",
              "    <tr>\n",
              "      <th>2</th>\n",
              "      <td>2.0</td>\n",
              "    </tr>\n",
              "    <tr>\n",
              "      <th>3</th>\n",
              "      <td>6.0</td>\n",
              "    </tr>\n",
              "    <tr>\n",
              "      <th>4</th>\n",
              "      <td>2.0</td>\n",
              "    </tr>\n",
              "    <tr>\n",
              "      <th>5</th>\n",
              "      <td>2.0</td>\n",
              "    </tr>\n",
              "  </tbody>\n",
              "</table>\n",
              "</div>\n",
              "      <button class=\"colab-df-convert\" onclick=\"convertToInteractive('df-30cc9c27-6987-4ce6-b657-4699b7ee6557')\"\n",
              "              title=\"Convert this dataframe to an interactive table.\"\n",
              "              style=\"display:none;\">\n",
              "        \n",
              "  <svg xmlns=\"http://www.w3.org/2000/svg\" height=\"24px\"viewBox=\"0 0 24 24\"\n",
              "       width=\"24px\">\n",
              "    <path d=\"M0 0h24v24H0V0z\" fill=\"none\"/>\n",
              "    <path d=\"M18.56 5.44l.94 2.06.94-2.06 2.06-.94-2.06-.94-.94-2.06-.94 2.06-2.06.94zm-11 1L8.5 8.5l.94-2.06 2.06-.94-2.06-.94L8.5 2.5l-.94 2.06-2.06.94zm10 10l.94 2.06.94-2.06 2.06-.94-2.06-.94-.94-2.06-.94 2.06-2.06.94z\"/><path d=\"M17.41 7.96l-1.37-1.37c-.4-.4-.92-.59-1.43-.59-.52 0-1.04.2-1.43.59L10.3 9.45l-7.72 7.72c-.78.78-.78 2.05 0 2.83L4 21.41c.39.39.9.59 1.41.59.51 0 1.02-.2 1.41-.59l7.78-7.78 2.81-2.81c.8-.78.8-2.07 0-2.86zM5.41 20L4 18.59l7.72-7.72 1.47 1.35L5.41 20z\"/>\n",
              "  </svg>\n",
              "      </button>\n",
              "      \n",
              "  <style>\n",
              "    .colab-df-container {\n",
              "      display:flex;\n",
              "      flex-wrap:wrap;\n",
              "      gap: 12px;\n",
              "    }\n",
              "\n",
              "    .colab-df-convert {\n",
              "      background-color: #E8F0FE;\n",
              "      border: none;\n",
              "      border-radius: 50%;\n",
              "      cursor: pointer;\n",
              "      display: none;\n",
              "      fill: #1967D2;\n",
              "      height: 32px;\n",
              "      padding: 0 0 0 0;\n",
              "      width: 32px;\n",
              "    }\n",
              "\n",
              "    .colab-df-convert:hover {\n",
              "      background-color: #E2EBFA;\n",
              "      box-shadow: 0px 1px 2px rgba(60, 64, 67, 0.3), 0px 1px 3px 1px rgba(60, 64, 67, 0.15);\n",
              "      fill: #174EA6;\n",
              "    }\n",
              "\n",
              "    [theme=dark] .colab-df-convert {\n",
              "      background-color: #3B4455;\n",
              "      fill: #D2E3FC;\n",
              "    }\n",
              "\n",
              "    [theme=dark] .colab-df-convert:hover {\n",
              "      background-color: #434B5C;\n",
              "      box-shadow: 0px 1px 3px 1px rgba(0, 0, 0, 0.15);\n",
              "      filter: drop-shadow(0px 1px 2px rgba(0, 0, 0, 0.3));\n",
              "      fill: #FFFFFF;\n",
              "    }\n",
              "  </style>\n",
              "\n",
              "      <script>\n",
              "        const buttonEl =\n",
              "          document.querySelector('#df-30cc9c27-6987-4ce6-b657-4699b7ee6557 button.colab-df-convert');\n",
              "        buttonEl.style.display =\n",
              "          google.colab.kernel.accessAllowed ? 'block' : 'none';\n",
              "\n",
              "        async function convertToInteractive(key) {\n",
              "          const element = document.querySelector('#df-30cc9c27-6987-4ce6-b657-4699b7ee6557');\n",
              "          const dataTable =\n",
              "            await google.colab.kernel.invokeFunction('convertToInteractive',\n",
              "                                                     [key], {});\n",
              "          if (!dataTable) return;\n",
              "\n",
              "          const docLinkHtml = 'Like what you see? Visit the ' +\n",
              "            '<a target=\"_blank\" href=https://colab.research.google.com/notebooks/data_table.ipynb>data table notebook</a>'\n",
              "            + ' to learn more about interactive tables.';\n",
              "          element.innerHTML = '';\n",
              "          dataTable['output_type'] = 'display_data';\n",
              "          await google.colab.output.renderOutput(dataTable, element);\n",
              "          const docLink = document.createElement('div');\n",
              "          docLink.innerHTML = docLinkHtml;\n",
              "          element.appendChild(docLink);\n",
              "        }\n",
              "      </script>\n",
              "    </div>\n",
              "  </div>\n",
              "  "
            ]
          },
          "metadata": {},
          "execution_count": 5
        }
      ]
    },
    {
      "cell_type": "markdown",
      "source": [
        "**3.** (5 баллов) Предположим, что у Вас есть набор данных как с непрерывными, так и с категориальными переменными. Какие методы кластеризации не помогут достичь высокого качества построенной модели при описанной ситуации с данными и почему? И какие методы кластеризации Вы бы использовали? "
      ],
      "metadata": {
        "id": "o4vriMdTZrpW"
      }
    },
    {
      "cell_type": "markdown",
      "source": [
        "В данном случае дело не столько в методах, сколько в способе метрического измерения. Евклидово расстояние, которое часто используется как норма по умолчанию, не подходит, так как непонятно как оно будет работать с категориальными переменными (вычитать категориальные признаки - просто бессмысленно и совершенно неинтерпретируемо). Это относится и к другим нормам.\n",
        "\n",
        "В данном случае наилучший способ - обучить представления (эмбдеддинги) . Эмбеддинги - числовые признаки объектов, которые сохраняют свойства самих объектов. После получения представлений можно легко использовать самые классические методы, например, KMeans (и самые классические нормы для измерения расстояний)"
      ],
      "metadata": {
        "id": "Dpa-lYiRnCTR"
      }
    },
    {
      "cell_type": "markdown",
      "source": [
        "**4.** Предположим, что перед Вами стоит задача: построить модель машинного обучения для прогнозирования заполняемости отеля в любую дату.\n",
        "\n",
        "\n",
        "*   (2.5 баллов) Какие данные Вы бы использовали для обучения вашей модели? \n",
        "*   (10 баллов со скелетом кода, 5 баллов с письменным описанием) Какую бы модель Вы разработали? \n",
        "*   (2.5 баллов) Как бы Вы оценивали качество модели? \n",
        "\n",
        "\n",
        "\n",
        "\n",
        "\n",
        "\n",
        "\n",
        "\n"
      ],
      "metadata": {
        "id": "SKfQdhKceSY-"
      }
    },
    {
      "cell_type": "markdown",
      "source": [
        "С первого взгляда задача - классический time-series. То есть базово есть дата и есть количество посетителей в отеле. А дальше можно применить что-то вроде ARIMA (или ее модификаций) и получить достаточно качественный результат на обозримом горизонте. Но time-series - вне рамок этого курса.\n",
        "\n",
        "В качестве альтернативы давайте будем решать задачу регрессии.\n",
        "Дату можно разложить на несколько признаков:\n",
        "\n",
        "1. Месяц (допустим, если отель на море, то логичнее будет, что в летние месяцы заполненность выше)\n",
        "2. День месяца (возможно, это позволит как-то уточнить информацию о месяце. Например, может быть какой-то праздник в начале месяца, благодаря которому поток клиентов возрастет) \n",
        "3. День недели (на выходных, как мне кажется, заполняемость выше)\n",
        "\n",
        "На самом деле, других признаков я здесь не вижу. В целом, можно взять какие-то усредненные данные о клиентах (среднее количество дней проживания всех клиентов, которые в данный день находятся в отеле), но проблема в том, что для будущего мы такую информацию просто не знаем и нахождение такой информации - не менее сложная задача (по сравнению с текущей). Также можно взять усредненные исторические данные (например, количество свободных мест на парковке) на какой-то день в году. В данном случае необходимо предположение о том, что такие данные репрезентативны и накапливались в течение многих лет. Думаю, что не для каждого отеля это предоположение будет возможно сделать.\n",
        "\n",
        "Итогово: у нас изначально данные представлены как:\n",
        "date -> number of clients\n",
        "\n",
        "\n"
      ],
      "metadata": {
        "id": "8OQFKBWmv5PJ"
      }
    },
    {
      "cell_type": "markdown",
      "source": [
        "Проведем полное моделирование"
      ],
      "metadata": {
        "id": "EbBHJUOhBPJO"
      }
    },
    {
      "cell_type": "code",
      "source": [
        "#Образный датафрейм\n",
        "df = pd.DataFrame.from_dict({\n",
        "    'date': pd.date_range(\"2018-01-01\", periods=1000, freq=\"D\"), \n",
        "    'number_of_clients': np.random.randint(100, 300, size=1000)\n",
        "}, orient='columns')\n",
        "df.head()"
      ],
      "metadata": {
        "colab": {
          "base_uri": "https://localhost:8080/",
          "height": 206
        },
        "id": "vzNLwyUUCZIm",
        "outputId": "628f17c5-e69d-479f-b8df-1ee7d7393b79"
      },
      "execution_count": 6,
      "outputs": [
        {
          "output_type": "execute_result",
          "data": {
            "text/plain": [
              "        date  number_of_clients\n",
              "0 2018-01-01                229\n",
              "1 2018-01-02                190\n",
              "2 2018-01-03                276\n",
              "3 2018-01-04                238\n",
              "4 2018-01-05                125"
            ],
            "text/html": [
              "\n",
              "  <div id=\"df-63326a8d-5d95-4e77-b48c-45db8c6db866\">\n",
              "    <div class=\"colab-df-container\">\n",
              "      <div>\n",
              "<style scoped>\n",
              "    .dataframe tbody tr th:only-of-type {\n",
              "        vertical-align: middle;\n",
              "    }\n",
              "\n",
              "    .dataframe tbody tr th {\n",
              "        vertical-align: top;\n",
              "    }\n",
              "\n",
              "    .dataframe thead th {\n",
              "        text-align: right;\n",
              "    }\n",
              "</style>\n",
              "<table border=\"1\" class=\"dataframe\">\n",
              "  <thead>\n",
              "    <tr style=\"text-align: right;\">\n",
              "      <th></th>\n",
              "      <th>date</th>\n",
              "      <th>number_of_clients</th>\n",
              "    </tr>\n",
              "  </thead>\n",
              "  <tbody>\n",
              "    <tr>\n",
              "      <th>0</th>\n",
              "      <td>2018-01-01</td>\n",
              "      <td>229</td>\n",
              "    </tr>\n",
              "    <tr>\n",
              "      <th>1</th>\n",
              "      <td>2018-01-02</td>\n",
              "      <td>190</td>\n",
              "    </tr>\n",
              "    <tr>\n",
              "      <th>2</th>\n",
              "      <td>2018-01-03</td>\n",
              "      <td>276</td>\n",
              "    </tr>\n",
              "    <tr>\n",
              "      <th>3</th>\n",
              "      <td>2018-01-04</td>\n",
              "      <td>238</td>\n",
              "    </tr>\n",
              "    <tr>\n",
              "      <th>4</th>\n",
              "      <td>2018-01-05</td>\n",
              "      <td>125</td>\n",
              "    </tr>\n",
              "  </tbody>\n",
              "</table>\n",
              "</div>\n",
              "      <button class=\"colab-df-convert\" onclick=\"convertToInteractive('df-63326a8d-5d95-4e77-b48c-45db8c6db866')\"\n",
              "              title=\"Convert this dataframe to an interactive table.\"\n",
              "              style=\"display:none;\">\n",
              "        \n",
              "  <svg xmlns=\"http://www.w3.org/2000/svg\" height=\"24px\"viewBox=\"0 0 24 24\"\n",
              "       width=\"24px\">\n",
              "    <path d=\"M0 0h24v24H0V0z\" fill=\"none\"/>\n",
              "    <path d=\"M18.56 5.44l.94 2.06.94-2.06 2.06-.94-2.06-.94-.94-2.06-.94 2.06-2.06.94zm-11 1L8.5 8.5l.94-2.06 2.06-.94-2.06-.94L8.5 2.5l-.94 2.06-2.06.94zm10 10l.94 2.06.94-2.06 2.06-.94-2.06-.94-.94-2.06-.94 2.06-2.06.94z\"/><path d=\"M17.41 7.96l-1.37-1.37c-.4-.4-.92-.59-1.43-.59-.52 0-1.04.2-1.43.59L10.3 9.45l-7.72 7.72c-.78.78-.78 2.05 0 2.83L4 21.41c.39.39.9.59 1.41.59.51 0 1.02-.2 1.41-.59l7.78-7.78 2.81-2.81c.8-.78.8-2.07 0-2.86zM5.41 20L4 18.59l7.72-7.72 1.47 1.35L5.41 20z\"/>\n",
              "  </svg>\n",
              "      </button>\n",
              "      \n",
              "  <style>\n",
              "    .colab-df-container {\n",
              "      display:flex;\n",
              "      flex-wrap:wrap;\n",
              "      gap: 12px;\n",
              "    }\n",
              "\n",
              "    .colab-df-convert {\n",
              "      background-color: #E8F0FE;\n",
              "      border: none;\n",
              "      border-radius: 50%;\n",
              "      cursor: pointer;\n",
              "      display: none;\n",
              "      fill: #1967D2;\n",
              "      height: 32px;\n",
              "      padding: 0 0 0 0;\n",
              "      width: 32px;\n",
              "    }\n",
              "\n",
              "    .colab-df-convert:hover {\n",
              "      background-color: #E2EBFA;\n",
              "      box-shadow: 0px 1px 2px rgba(60, 64, 67, 0.3), 0px 1px 3px 1px rgba(60, 64, 67, 0.15);\n",
              "      fill: #174EA6;\n",
              "    }\n",
              "\n",
              "    [theme=dark] .colab-df-convert {\n",
              "      background-color: #3B4455;\n",
              "      fill: #D2E3FC;\n",
              "    }\n",
              "\n",
              "    [theme=dark] .colab-df-convert:hover {\n",
              "      background-color: #434B5C;\n",
              "      box-shadow: 0px 1px 3px 1px rgba(0, 0, 0, 0.15);\n",
              "      filter: drop-shadow(0px 1px 2px rgba(0, 0, 0, 0.3));\n",
              "      fill: #FFFFFF;\n",
              "    }\n",
              "  </style>\n",
              "\n",
              "      <script>\n",
              "        const buttonEl =\n",
              "          document.querySelector('#df-63326a8d-5d95-4e77-b48c-45db8c6db866 button.colab-df-convert');\n",
              "        buttonEl.style.display =\n",
              "          google.colab.kernel.accessAllowed ? 'block' : 'none';\n",
              "\n",
              "        async function convertToInteractive(key) {\n",
              "          const element = document.querySelector('#df-63326a8d-5d95-4e77-b48c-45db8c6db866');\n",
              "          const dataTable =\n",
              "            await google.colab.kernel.invokeFunction('convertToInteractive',\n",
              "                                                     [key], {});\n",
              "          if (!dataTable) return;\n",
              "\n",
              "          const docLinkHtml = 'Like what you see? Visit the ' +\n",
              "            '<a target=\"_blank\" href=https://colab.research.google.com/notebooks/data_table.ipynb>data table notebook</a>'\n",
              "            + ' to learn more about interactive tables.';\n",
              "          element.innerHTML = '';\n",
              "          dataTable['output_type'] = 'display_data';\n",
              "          await google.colab.output.renderOutput(dataTable, element);\n",
              "          const docLink = document.createElement('div');\n",
              "          docLink.innerHTML = docLinkHtml;\n",
              "          element.appendChild(docLink);\n",
              "        }\n",
              "      </script>\n",
              "    </div>\n",
              "  </div>\n",
              "  "
            ]
          },
          "metadata": {},
          "execution_count": 6
        }
      ]
    },
    {
      "cell_type": "markdown",
      "source": [
        "Переведем в признаки"
      ],
      "metadata": {
        "id": "V9idSSoSFoQO"
      }
    },
    {
      "cell_type": "code",
      "source": [
        "df_p = df.copy()\n",
        "\n",
        "df_p['month'] = df_p.date.dt.month\n",
        "df_p['day'] = df_p.date.dt.day\n",
        "df_p['day_of_week'] = df_p.date.dt.day_of_week\n",
        "\n",
        "df_p.drop(columns='date', inplace=True)\n",
        "\n",
        "df_p.head(10)"
      ],
      "metadata": {
        "colab": {
          "base_uri": "https://localhost:8080/",
          "height": 363
        },
        "id": "T3uzxpA6GUDG",
        "outputId": "2fc8b2d1-b2cc-4aba-d07c-5b598583777e"
      },
      "execution_count": 7,
      "outputs": [
        {
          "output_type": "execute_result",
          "data": {
            "text/plain": [
              "   number_of_clients  month  day  day_of_week\n",
              "0                229      1    1            0\n",
              "1                190      1    2            1\n",
              "2                276      1    3            2\n",
              "3                238      1    4            3\n",
              "4                125      1    5            4\n",
              "5                225      1    6            5\n",
              "6                121      1    7            6\n",
              "7                245      1    8            0\n",
              "8                159      1    9            1\n",
              "9                201      1   10            2"
            ],
            "text/html": [
              "\n",
              "  <div id=\"df-2965cb20-dc9c-45f2-8f6e-aeaee0dbe426\">\n",
              "    <div class=\"colab-df-container\">\n",
              "      <div>\n",
              "<style scoped>\n",
              "    .dataframe tbody tr th:only-of-type {\n",
              "        vertical-align: middle;\n",
              "    }\n",
              "\n",
              "    .dataframe tbody tr th {\n",
              "        vertical-align: top;\n",
              "    }\n",
              "\n",
              "    .dataframe thead th {\n",
              "        text-align: right;\n",
              "    }\n",
              "</style>\n",
              "<table border=\"1\" class=\"dataframe\">\n",
              "  <thead>\n",
              "    <tr style=\"text-align: right;\">\n",
              "      <th></th>\n",
              "      <th>number_of_clients</th>\n",
              "      <th>month</th>\n",
              "      <th>day</th>\n",
              "      <th>day_of_week</th>\n",
              "    </tr>\n",
              "  </thead>\n",
              "  <tbody>\n",
              "    <tr>\n",
              "      <th>0</th>\n",
              "      <td>229</td>\n",
              "      <td>1</td>\n",
              "      <td>1</td>\n",
              "      <td>0</td>\n",
              "    </tr>\n",
              "    <tr>\n",
              "      <th>1</th>\n",
              "      <td>190</td>\n",
              "      <td>1</td>\n",
              "      <td>2</td>\n",
              "      <td>1</td>\n",
              "    </tr>\n",
              "    <tr>\n",
              "      <th>2</th>\n",
              "      <td>276</td>\n",
              "      <td>1</td>\n",
              "      <td>3</td>\n",
              "      <td>2</td>\n",
              "    </tr>\n",
              "    <tr>\n",
              "      <th>3</th>\n",
              "      <td>238</td>\n",
              "      <td>1</td>\n",
              "      <td>4</td>\n",
              "      <td>3</td>\n",
              "    </tr>\n",
              "    <tr>\n",
              "      <th>4</th>\n",
              "      <td>125</td>\n",
              "      <td>1</td>\n",
              "      <td>5</td>\n",
              "      <td>4</td>\n",
              "    </tr>\n",
              "    <tr>\n",
              "      <th>5</th>\n",
              "      <td>225</td>\n",
              "      <td>1</td>\n",
              "      <td>6</td>\n",
              "      <td>5</td>\n",
              "    </tr>\n",
              "    <tr>\n",
              "      <th>6</th>\n",
              "      <td>121</td>\n",
              "      <td>1</td>\n",
              "      <td>7</td>\n",
              "      <td>6</td>\n",
              "    </tr>\n",
              "    <tr>\n",
              "      <th>7</th>\n",
              "      <td>245</td>\n",
              "      <td>1</td>\n",
              "      <td>8</td>\n",
              "      <td>0</td>\n",
              "    </tr>\n",
              "    <tr>\n",
              "      <th>8</th>\n",
              "      <td>159</td>\n",
              "      <td>1</td>\n",
              "      <td>9</td>\n",
              "      <td>1</td>\n",
              "    </tr>\n",
              "    <tr>\n",
              "      <th>9</th>\n",
              "      <td>201</td>\n",
              "      <td>1</td>\n",
              "      <td>10</td>\n",
              "      <td>2</td>\n",
              "    </tr>\n",
              "  </tbody>\n",
              "</table>\n",
              "</div>\n",
              "      <button class=\"colab-df-convert\" onclick=\"convertToInteractive('df-2965cb20-dc9c-45f2-8f6e-aeaee0dbe426')\"\n",
              "              title=\"Convert this dataframe to an interactive table.\"\n",
              "              style=\"display:none;\">\n",
              "        \n",
              "  <svg xmlns=\"http://www.w3.org/2000/svg\" height=\"24px\"viewBox=\"0 0 24 24\"\n",
              "       width=\"24px\">\n",
              "    <path d=\"M0 0h24v24H0V0z\" fill=\"none\"/>\n",
              "    <path d=\"M18.56 5.44l.94 2.06.94-2.06 2.06-.94-2.06-.94-.94-2.06-.94 2.06-2.06.94zm-11 1L8.5 8.5l.94-2.06 2.06-.94-2.06-.94L8.5 2.5l-.94 2.06-2.06.94zm10 10l.94 2.06.94-2.06 2.06-.94-2.06-.94-.94-2.06-.94 2.06-2.06.94z\"/><path d=\"M17.41 7.96l-1.37-1.37c-.4-.4-.92-.59-1.43-.59-.52 0-1.04.2-1.43.59L10.3 9.45l-7.72 7.72c-.78.78-.78 2.05 0 2.83L4 21.41c.39.39.9.59 1.41.59.51 0 1.02-.2 1.41-.59l7.78-7.78 2.81-2.81c.8-.78.8-2.07 0-2.86zM5.41 20L4 18.59l7.72-7.72 1.47 1.35L5.41 20z\"/>\n",
              "  </svg>\n",
              "      </button>\n",
              "      \n",
              "  <style>\n",
              "    .colab-df-container {\n",
              "      display:flex;\n",
              "      flex-wrap:wrap;\n",
              "      gap: 12px;\n",
              "    }\n",
              "\n",
              "    .colab-df-convert {\n",
              "      background-color: #E8F0FE;\n",
              "      border: none;\n",
              "      border-radius: 50%;\n",
              "      cursor: pointer;\n",
              "      display: none;\n",
              "      fill: #1967D2;\n",
              "      height: 32px;\n",
              "      padding: 0 0 0 0;\n",
              "      width: 32px;\n",
              "    }\n",
              "\n",
              "    .colab-df-convert:hover {\n",
              "      background-color: #E2EBFA;\n",
              "      box-shadow: 0px 1px 2px rgba(60, 64, 67, 0.3), 0px 1px 3px 1px rgba(60, 64, 67, 0.15);\n",
              "      fill: #174EA6;\n",
              "    }\n",
              "\n",
              "    [theme=dark] .colab-df-convert {\n",
              "      background-color: #3B4455;\n",
              "      fill: #D2E3FC;\n",
              "    }\n",
              "\n",
              "    [theme=dark] .colab-df-convert:hover {\n",
              "      background-color: #434B5C;\n",
              "      box-shadow: 0px 1px 3px 1px rgba(0, 0, 0, 0.15);\n",
              "      filter: drop-shadow(0px 1px 2px rgba(0, 0, 0, 0.3));\n",
              "      fill: #FFFFFF;\n",
              "    }\n",
              "  </style>\n",
              "\n",
              "      <script>\n",
              "        const buttonEl =\n",
              "          document.querySelector('#df-2965cb20-dc9c-45f2-8f6e-aeaee0dbe426 button.colab-df-convert');\n",
              "        buttonEl.style.display =\n",
              "          google.colab.kernel.accessAllowed ? 'block' : 'none';\n",
              "\n",
              "        async function convertToInteractive(key) {\n",
              "          const element = document.querySelector('#df-2965cb20-dc9c-45f2-8f6e-aeaee0dbe426');\n",
              "          const dataTable =\n",
              "            await google.colab.kernel.invokeFunction('convertToInteractive',\n",
              "                                                     [key], {});\n",
              "          if (!dataTable) return;\n",
              "\n",
              "          const docLinkHtml = 'Like what you see? Visit the ' +\n",
              "            '<a target=\"_blank\" href=https://colab.research.google.com/notebooks/data_table.ipynb>data table notebook</a>'\n",
              "            + ' to learn more about interactive tables.';\n",
              "          element.innerHTML = '';\n",
              "          dataTable['output_type'] = 'display_data';\n",
              "          await google.colab.output.renderOutput(dataTable, element);\n",
              "          const docLink = document.createElement('div');\n",
              "          docLink.innerHTML = docLinkHtml;\n",
              "          element.appendChild(docLink);\n",
              "        }\n",
              "      </script>\n",
              "    </div>\n",
              "  </div>\n",
              "  "
            ]
          },
          "metadata": {},
          "execution_count": 7
        }
      ]
    },
    {
      "cell_type": "markdown",
      "source": [
        "Просто делим датафрейм на признаки (Х) и таргет (у)"
      ],
      "metadata": {
        "id": "-w7blfvKIUfm"
      }
    },
    {
      "cell_type": "code",
      "source": [
        "X = df_p.drop(columns='number_of_clients')\n",
        "y = df_p['number_of_clients']"
      ],
      "metadata": {
        "id": "R4F-wWGvGpKm"
      },
      "execution_count": 8,
      "outputs": []
    },
    {
      "cell_type": "markdown",
      "source": [
        "Делим на трейн и тест множества"
      ],
      "metadata": {
        "id": "1SEQAzwoIcce"
      }
    },
    {
      "cell_type": "code",
      "source": [
        "from sklearn.model_selection import train_test_split\n",
        "\n",
        "X_train, X_test, y_train, y_test = train_test_split(X, y, test_size=0.25, random_state=42)"
      ],
      "metadata": {
        "id": "lW9uWVNrH6C-"
      },
      "execution_count": 9,
      "outputs": []
    },
    {
      "cell_type": "markdown",
      "source": [
        "Теперь про модель. Так как признаки категориальные, то есть два выхода:\n",
        "\n",
        "1. Перевести признаки в числовые с помощью One-Hot encoding, а затем обучить какую-то простую модель (например, логистическую регрессию). Небольшая проблема данного подхода в том, что количество признаков будет большим (12 + 31 + 7 = 50).\n",
        "2. Использовать бустинг с встроенным учетом категориальных признаков (например, HistGradientBoostingRegressor из sklearn, либо CatBoost).\n",
        "\n",
        "Давайте реализуем оба варианта"
      ],
      "metadata": {
        "id": "N1DcYYpfIUEG"
      }
    },
    {
      "cell_type": "markdown",
      "source": [
        "Оценивать модель будем с помощью $R^2$. Это метрика для задач регрессии удобна, так как выдает значение в промежутке от 0 до 1, то есть ее можно использовать для сравнения качества на данных различных отелей"
      ],
      "metadata": {
        "id": "s_eDMwUoKtGm"
      }
    },
    {
      "cell_type": "markdown",
      "source": [
        "Вариант 1"
      ],
      "metadata": {
        "id": "cdJMd1xjLQJO"
      }
    },
    {
      "cell_type": "markdown",
      "source": [
        "Будем использовать HuberRegressor, так как он использует хороший лосс - Huber loss, который объединяет достоинства MAE и MSE"
      ],
      "metadata": {
        "id": "gl2pWL0ePJLm"
      }
    },
    {
      "cell_type": "code",
      "source": [
        "from sklearn.preprocessing import OneHotEncoder\n",
        "from sklearn.linear_model import HuberRegressor\n",
        "from sklearn.metrics import r2_score\n",
        "\n",
        "ohe = OneHotEncoder(handle_unknown='ignore')\n",
        "X_train_p = ohe.fit_transform(X_train)\n",
        "X_test_p = ohe.transform(X_test)\n",
        "\n",
        "rr = HuberRegressor()\n",
        "rr.fit(X_train_p, y_train)\n",
        "y_pred = rr.predict(X_test_p)\n",
        "\n",
        "print(f'R2: {r2_score(y_test, y_pred)}')"
      ],
      "metadata": {
        "colab": {
          "base_uri": "https://localhost:8080/"
        },
        "id": "HQQNUjIkITiu",
        "outputId": "54cdd575-72f7-4e90-958e-cae3306cfd00"
      },
      "execution_count": 10,
      "outputs": [
        {
          "output_type": "stream",
          "name": "stdout",
          "text": [
            "R2: -0.07290858441380399\n"
          ]
        }
      ]
    },
    {
      "cell_type": "markdown",
      "source": [
        "Данные случайные, поэтому результат вполне ожидаемый"
      ],
      "metadata": {
        "id": "ShsLYzE-OrSX"
      }
    },
    {
      "cell_type": "markdown",
      "source": [
        "Вариант 2"
      ],
      "metadata": {
        "id": "FdR1XAqkOy4n"
      }
    },
    {
      "cell_type": "markdown",
      "source": [
        "Ограничимся реализацией из sklearn"
      ],
      "metadata": {
        "id": "phdlTJ2KuY1Y"
      }
    },
    {
      "cell_type": "code",
      "source": [
        "from sklearn.ensemble import HistGradientBoostingRegressor\n",
        "from sklearn.metrics import r2_score\n",
        "\n",
        "hgbr = HistGradientBoostingRegressor(categorical_features=[1] * len(X.columns))\n",
        "hgbr.fit(X_train, y_train)\n",
        "y_pred = hgbr.predict(X_test)\n",
        "\n",
        "print(f'R2: {r2_score(y_test, y_pred)}')"
      ],
      "metadata": {
        "colab": {
          "base_uri": "https://localhost:8080/"
        },
        "id": "1OOlbg0JOu3u",
        "outputId": "0f28f36a-1391-4ed6-cf95-3dabf775f040"
      },
      "execution_count": 11,
      "outputs": [
        {
          "output_type": "stream",
          "name": "stdout",
          "text": [
            "R2: -0.13925651443478304\n"
          ]
        }
      ]
    },
    {
      "cell_type": "markdown",
      "source": [
        "Данные опять же близки к случайным"
      ],
      "metadata": {
        "id": "TgOnkvrfQH6n"
      }
    },
    {
      "cell_type": "markdown",
      "source": [
        "В целом, вот два примера этой задачи. К сожалению, данные случайные, поэтому адекватно сравнить два подхода не получится"
      ],
      "metadata": {
        "id": "WHjUGN8IQfiu"
      }
    },
    {
      "cell_type": "markdown",
      "source": [
        "**5.** (10 баллов) У Вас есть строка, напоминающая объявление списка словарей. Не используя Pandas, напишите функцию `read_split_from_str`, которая:\n",
        "\n",
        "*   Читает данные и кодирует их как список словарей (данные можно сгенерировать случайно при помощи numpy, например);\n",
        "*   Разделяет данные на два списка: train и test в соотношении 70:30 и, соответственно, возвращает список `[training_set,testing_set]`. \n",
        "\n",
        "Пример входных данных:\n",
        "\n",
        "`list_of_dict_string = \"[{'x': 0, 'y': 4}, {'x': 20, 'y': 104}, {'x': 128, 'y': 212}]\"`\n",
        "\n",
        "Пример выходных данных:\n",
        "\n",
        "```\n",
        "def read_split_from_str(list_of_dict_string) \n",
        "    [\n",
        "    [{'x': 0, 'y': 4}, {'x': 20, 'y': 104}],\n",
        "    [{'x': 128, 'y': 212}]\n",
        "    ]\n",
        "```\n",
        "\n"
      ],
      "metadata": {
        "id": "cm4nAmkycnfc"
      }
    },
    {
      "cell_type": "markdown",
      "source": [
        "Предположим, что в качестве данных могут быть либо строки, либо целые числа. А также предположим, что входная строка корректна всегда"
      ],
      "metadata": {
        "id": "9ilqVxzmRcU-"
      }
    },
    {
      "cell_type": "code",
      "source": [
        "import random\n",
        "def str_to_val(s):\n",
        "    \"\"\"\n",
        "    Переводит строку в значение: если есть кавычки, то значит строка, иначе - число\n",
        "    \"\"\"\n",
        "    if (s[0] == '\\'' or s[0] == '\"') and (s[-1] == '\\'' or s[-1] == '\"'):\n",
        "        return s[1:-1]\n",
        "    else:\n",
        "        return int(s)\n",
        "\n",
        "def read_split_from_str(s, train_size=0.7, shuffle=True):\n",
        "    s = s[1:-1]\n",
        "    l_sd = []\n",
        "    dict_s = ''\n",
        "    was_prime = False #был ли символ \"'\". Нужен для случаев, когда скобка лежит внутри строки\n",
        "    # Сначала выделяем строки словарей\n",
        "    for e in s:\n",
        "        if e == '{' and not was_prime:\n",
        "            dict_s = ''\n",
        "        elif e == '}' and not was_prime:\n",
        "            l_sd.append(dict_s)\n",
        "        elif e != ' ':\n",
        "            if e == '\\'' or e == '\"':\n",
        "                was_prime = not was_prime\n",
        "            dict_s += e\n",
        "\n",
        "    # Далее из каждого словаря-строки выделяем списки пар, \n",
        "    # которые потом без труда переводим в словарь с помощью средств питона \n",
        "    # (надеюсь это не чит)\n",
        "    l_d = [] #список словарей\n",
        "    for sd in l_sd:\n",
        "        d = []\n",
        "        was_prime = False\n",
        "        is_first = True\n",
        "        e1 = ''\n",
        "        e2 = ''\n",
        "        for e in sd + ',': #добавочная запятая, чтобы сильно не усложнять правила\n",
        "            if e == ':' and not was_prime:\n",
        "                is_first = False\n",
        "            elif e == ',' and not was_prime:\n",
        "                is_first = True\n",
        "                d.append((str_to_val(e1), str_to_val(e2)))\n",
        "                e1 = ''\n",
        "                e2 = ''\n",
        "            else:\n",
        "                if e == '\\'' or e == '\\\"':\n",
        "                    was_prime = not was_prime\n",
        "                if is_first:\n",
        "                    e1 += e\n",
        "                else:\n",
        "                    e2 += e\n",
        "        l_d.append(dict(d))\n",
        "\n",
        "    # Перемешиваем список словарей \n",
        "    if shuffle:\n",
        "        random.shuffle(l_d)\n",
        "\n",
        "    # Находим индекс разделения. Все что до индекса - трейн, остальное - тест\n",
        "    div_ind = int(len(l_d) * 0.7)\n",
        "        \n",
        "    return l_d[:div_ind], l_d[div_ind:]"
      ],
      "metadata": {
        "id": "fG4r28rwRJsv"
      },
      "execution_count": 12,
      "outputs": []
    },
    {
      "cell_type": "markdown",
      "source": [
        "Выведем результат с перемешиванием перед разделением на train и test. Доля трейна - 0.7"
      ],
      "metadata": {
        "id": "MgQNQu1WeA7P"
      }
    },
    {
      "cell_type": "code",
      "source": [
        "read_split_from_str(\"[{'x': 0, 'y': 4}, {'x': 20, 'y': 104}, {'x': 128, 'y': 212}]\") "
      ],
      "metadata": {
        "colab": {
          "base_uri": "https://localhost:8080/"
        },
        "id": "cVyyipO1UI2O",
        "outputId": "53025c77-c406-4dd3-cf9f-69cf0966ff16"
      },
      "execution_count": 13,
      "outputs": [
        {
          "output_type": "execute_result",
          "data": {
            "text/plain": [
              "([{'x': 128, 'y': 212}, {'x': 20, 'y': 104}], [{'x': 0, 'y': 4}])"
            ]
          },
          "metadata": {},
          "execution_count": 13
        }
      ]
    },
    {
      "cell_type": "markdown",
      "source": [
        "**6.** (10 баллов) Разработайте модель классификации k-ближайших соседей не используя scikit-learn, соблюдая некоторые условия: \n",
        "\n",
        "\n",
        "*   В качестве метрики близости использовано евклидово расстояние;\n",
        "*   Модель обратаывает датафреймы произвольного количества строк/столбцов."
      ],
      "metadata": {
        "id": "W2NbvSMrdvZY"
      }
    },
    {
      "cell_type": "code",
      "source": [
        "from scipy.spatial import distance\n",
        "from scipy.stats import mode\n",
        "# Для подсчета попарных произведений воспользуемся функцией из scipy\n",
        "\n",
        "class MyKNN():\n",
        "    def __init__(self, neighbors=5):\n",
        "        self.neighbors = neighbors\n",
        "    \n",
        "\n",
        "    def fit(self, X, y): #Просто запоминаем выборку\n",
        "        self.X_train = np.array(X)\n",
        "        self.y_train = np.array(y)\n",
        "    \n",
        "    \n",
        "    def predict(self, X):\n",
        "        self.X_test = np.array(X)\n",
        "        #Находим попарные расстояния между трейн и тест признаками\n",
        "        distances = distance.cdist(self.X_test, self.X_train, 'euclidean')\n",
        "        #Здесь первый шаг для нахождения таргетов ближайших соседей - \n",
        "        #используем argpartition для нахождения индексов партиций\n",
        "        partitions = np.argpartition(distances, self.neighbors, axis=1)\n",
        "        # далее используем полученные индексы для получения таргетов наименьших по расстоянию элементов\n",
        "        neighbors_target = np.array([self.y_train[partitions[i][:self.neighbors]] for i in range(len(partitions))])\n",
        "        # Берем самое популярное значение из таргетов ближайших соседей\n",
        "        result = mode(neighbors_target, axis=1)[0]\n",
        "\n",
        "        return result"
      ],
      "metadata": {
        "id": "b7NZ8TiIegfH"
      },
      "execution_count": 14,
      "outputs": []
    },
    {
      "cell_type": "markdown",
      "source": [
        "Проверим на датасете вин"
      ],
      "metadata": {
        "id": "dn8FqJ6fqZuo"
      }
    },
    {
      "cell_type": "code",
      "source": [
        "from sklearn.datasets import load_wine\n",
        "from sklearn.model_selection import train_test_split\n",
        "X, y = load_wine(return_X_y=True)\n",
        "X_train, X_test, y_train, y_test = train_test_split(X, y, test_size=0.25, random_state=42)"
      ],
      "metadata": {
        "id": "uG_r3_Zinl6g"
      },
      "execution_count": 15,
      "outputs": []
    },
    {
      "cell_type": "markdown",
      "source": [
        "Как видно, качество моей модели достаточно приличное"
      ],
      "metadata": {
        "id": "PERyPNRUqd3f"
      }
    },
    {
      "cell_type": "code",
      "source": [
        "from sklearn.metrics import f1_score\n",
        "\n",
        "f1_l = []\n",
        "for neighbors in range(1, 11):\n",
        "    model = MyKNN(neighbors)\n",
        "    model.fit(X_train, y_train)\n",
        "    y_test_pred = model.predict(X_test)\n",
        "\n",
        "    f1_l.append(f1_score(y_test, y_test_pred, average='weighted'))"
      ],
      "metadata": {
        "id": "40mZt-nGoWL_"
      },
      "execution_count": 16,
      "outputs": []
    },
    {
      "cell_type": "code",
      "source": [
        "import matplotlib.pyplot as plt\n",
        "\n",
        "plt.plot(list(range(1, 11)), f1_l)\n",
        "plt.xlabel('Neighbors')\n",
        "plt.ylabel('F1')"
      ],
      "metadata": {
        "colab": {
          "base_uri": "https://localhost:8080/",
          "height": 296
        },
        "id": "81BUrAuLsb0w",
        "outputId": "992f29a1-25a7-477a-97a1-b2fdf5156e95"
      },
      "execution_count": 17,
      "outputs": [
        {
          "output_type": "execute_result",
          "data": {
            "text/plain": [
              "Text(0, 0.5, 'F1')"
            ]
          },
          "metadata": {},
          "execution_count": 17
        },
        {
          "output_type": "display_data",
          "data": {
            "text/plain": [
              "<Figure size 432x288 with 1 Axes>"
            ],
            "image/png": "[encoded data removed]"
          },
          "metadata": {
            "needs_background": "light"
          }
        }
      ]
    },
    {
      "cell_type": "markdown",
      "source": [
        "Разумеется это базовая модель. Она может быть улучшена с помощью различных эвристик выбора ближайших соседей (полный перебор - не всегда хорошая идея), также можно добавить веса для соседей (самый ближайший сосед имееет наибольший вес) и пр."
      ],
      "metadata": {
        "id": "rn0ntb46sqJH"
      }
    }
  ]
}